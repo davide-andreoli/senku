{
 "cells": [
  {
   "cell_type": "code",
   "execution_count": null,
   "id": "dae26dbd",
   "metadata": {},
   "outputs": [],
   "source": [
    "import sys\n",
    "import os\n",
    "from pathlib import Path\n",
    "import logging\n",
    "\n",
    "logging.basicConfig(level=logging.INFO)\n",
    "\n",
    "notebook_dir = Path(__file__).parent if \"__file__\" in locals() else Path.cwd()\n",
    "src_path = notebook_dir.parent\n",
    "sys.path.append(str(src_path))"
   ]
  },
  {
   "cell_type": "code",
   "execution_count": null,
   "id": "9386708f",
   "metadata": {},
   "outputs": [],
   "source": [
    "from models.gpt import GPTModel\n",
    "from tokenizer.tokenizer import Tokenizer\n",
    "from loaders.dataset import TextFolderDataset\n",
    "from trainer.trainer import Trainer\n",
    "import torch\n",
    "from torch.optim import Optimizer\n",
    "import os"
   ]
  },
  {
   "cell_type": "code",
   "execution_count": null,
   "id": "f4dfa415",
   "metadata": {},
   "outputs": [],
   "source": [
    "#from train import EMBEDDING_DIMENSION, CONTEXT_LENGTH, NUMBER_OF_LAYERS, NUMBER_OF_ATTENTION_HEADS, DROPOUT, BIAS\n",
    "\n",
    "EMBEDDING_DIMENSION = 128\n",
    "CONTEXT_LENGTH = 128\n",
    "NUMBER_OF_LAYERS = 8\n",
    "NUMBER_OF_ATTENTION_HEADS = 8\n",
    "DROPOUT = 0.1\n",
    "BIAS = False\n",
    "\n",
    "#add_safe_globals([torch.nn.CrossEntropyLoss])\n",
    "\n",
    "tokenizer = Tokenizer()\n",
    "\n",
    "model = GPTModel(vocabulary_size=tokenizer.vocabulary_size, embedding_dimension=EMBEDDING_DIMENSION, context_length=CONTEXT_LENGTH, number_of_layers=NUMBER_OF_LAYERS, number_of_attention_heads=NUMBER_OF_ATTENTION_HEADS, dropout=DROPOUT, bias=BIAS)\n",
    "\n",
    "print(model.total_size())\n",
    "\n",
    "model.load_checkpoint(\"../checkpoints/checkpoint.pt\")"
   ]
  },
  {
   "cell_type": "code",
   "execution_count": null,
   "id": "89d56904",
   "metadata": {},
   "outputs": [],
   "source": [
    "tokens = model.generate_tokens(tokenizer.encode_to_tensor(\"\"), 100)\n",
    "print(tokenizer.decode_from_tensor(tokens))"
   ]
  },
  {
   "cell_type": "code",
   "execution_count": null,
   "id": "da6144f8",
   "metadata": {},
   "outputs": [],
   "source": [
    "tokens = model.generate_haiku(tokenizer)\n",
    "print(tokens)"
   ]
  }
 ],
 "metadata": {
  "kernelspec": {
   "display_name": "haiku-gen-h40v3a7K-py3.11",
   "language": "python",
   "name": "python3"
  },
  "language_info": {
   "codemirror_mode": {
    "name": "ipython",
    "version": 3
   },
   "file_extension": ".py",
   "mimetype": "text/x-python",
   "name": "python",
   "nbconvert_exporter": "python",
   "pygments_lexer": "ipython3",
   "version": "3.11.9"
  }
 },
 "nbformat": 4,
 "nbformat_minor": 5
}
