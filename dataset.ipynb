{
 "cells": [
  {
   "cell_type": "code",
   "execution_count": null,
   "metadata": {},
   "outputs": [],
   "source": [
    "import requests\n",
    "\n",
    "URL = \"https://www.kaggle.com/api/v1/datasets/download/hjhalani30/haiku-dataset\"\n",
    "\n",
    "download = requests.get(URL)\n",
    "\n",
    "with open(\"dataset/source/haiku-dataset.zip\", \"wb\") as file:\n",
    "    file.write(download.content)"
   ]
  },
  {
   "cell_type": "code",
   "execution_count": null,
   "metadata": {},
   "outputs": [],
   "source": [
    "import zipfile\n",
    "import os\n",
    "\n",
    "zip_path = \"dataset/source/haiku-dataset.zip\"\n",
    "extract_path = \"dataset/haiku/all-haikus.csv\"\n",
    "\n",
    "with zipfile.ZipFile(zip_path, \"r\") as zip_ref:\n",
    "    file_list = [f for f in zip_ref.namelist() if not f.endswith(\"/\")]\n",
    "    with zip_ref.open(file_list[0]) as source:\n",
    "        content = source.read()\n",
    "        text_content = content.decode(\"utf-8\")\n",
    "        with open(os.path.join(extract_path), \"wb\") as target:\n",
    "            target.write(content)"
   ]
  },
  {
   "cell_type": "code",
   "execution_count": null,
   "metadata": {},
   "outputs": [],
   "source": [
    "import csv\n",
    "from helpers.haiku_checker import is_haiku\n",
    "\n",
    "with open(\"dataset/haiku/all-haikus.csv\", encoding=\"utf-8\") as csv_file:\n",
    "    csv_reader = csv.reader(csv_file, delimiter=\",\")\n",
    "    next(csv_reader)\n",
    "    valid_haikus = []\n",
    "    invalid_haikus = []\n",
    "    for row in csv_reader:\n",
    "        haiku = row[1] + \"\\n\" + row[2] + \"\\n\" + row[3]\n",
    "        if is_haiku(haiku):\n",
    "            valid_haiku = [row[1].strip(), row[2].strip(), row[3].strip()]\n",
    "            valid_haikus.append(valid_haiku)\n",
    "\n",
    "with open(\n",
    "    \"dataset/haiku/valid-haikus.csv\", \"w\", encoding=\"utf-8\", newline=\"\"\n",
    ") as csv_file:\n",
    "    csv_writer = csv.writer(csv_file, delimiter=\",\")\n",
    "    csv_writer.writerow([\"first_line\", \"second_line\", \"third_line\"])\n",
    "    csv_writer.writerows(valid_haikus)"
   ]
  }
 ],
 "metadata": {
  "kernelspec": {
   "display_name": "haiku-gen-h40v3a7K-py3.11",
   "language": "python",
   "name": "python3"
  },
  "language_info": {
   "codemirror_mode": {
    "name": "ipython",
    "version": 3
   },
   "file_extension": ".py",
   "mimetype": "text/x-python",
   "name": "python",
   "nbconvert_exporter": "python",
   "pygments_lexer": "ipython3",
   "version": "3.11.9"
  }
 },
 "nbformat": 4,
 "nbformat_minor": 2
}
